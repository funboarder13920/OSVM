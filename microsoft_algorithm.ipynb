{
 "cells": [
  {
   "cell_type": "code",
   "execution_count": 1,
   "metadata": {
    "collapsed": true
   },
   "outputs": [],
   "source": [
    "import numpy as np\n",
    "import random\n",
    "import time\n",
    "import sklearn\n",
    "import sklearn.metrics\n",
    "import matplotlib\n",
    "import matplotlib.pyplot as plt\n",
    "%matplotlib inline\n",
    "tol = 10**(-10)"
   ]
  },
  {
   "cell_type": "code",
   "execution_count": 2,
   "metadata": {
    "collapsed": true
   },
   "outputs": [],
   "source": [
    "def kernel_expo(x,y,gamma):\n",
    "    return np.exp(-gamma*(np.linalg.norm(x-y)**2))"
   ]
  },
  {
   "cell_type": "code",
   "execution_count": 3,
   "metadata": {
    "collapsed": false
   },
   "outputs": [],
   "source": [
    "def KKTviol(O,rho,mu,l,alpha,ens):\n",
    "    ens2 = np.where(np.logical_or((rho-O[ens])*(1/(mu*l)-alpha[ens])>tol, (O[ens]-rho)*alpha[ens]>tol))\n",
    "    #print(ens2[0])\n",
    "    #np.random.shuffle(ens)\n",
    "    #p = -1\n",
    "    #enstest = []\n",
    "    #for index in ens:\n",
    "    #    if (O[index] -rho)*alpha[index]>tol or (rho-O[index])*(1/(mu*l)-alpha[index])>tol:\n",
    "    #        #print((O[index] -rho)*alpha[index],(rho-O[index])*(1/(mu*l)-alpha[index]),alpha[index])\n",
    "    #        enstest.append(index)\n",
    "    #        p = index\n",
    "    \n",
    "    if len(ens2[0]) == 0:\n",
    "        return -1\n",
    "    else :\n",
    "        index = np.random.randint(len(ens2[0]))\n",
    "        #print(ens2[0][index])\n",
    "        #print(ens2[0])\n",
    "        #print(len(ens2[0]))\n",
    "        #print(ens2)\n",
    "        #print(enstest)\n",
    "        #print(len(ens))\n",
    "        #time.sleep(0.5)\n",
    "        return ens[ens2[0][index]]\n",
    "    #return p"
   ]
  },
  {
   "cell_type": "code",
   "execution_count": 4,
   "metadata": {
    "collapsed": true
   },
   "outputs": [],
   "source": [
    "def argmax(O,i,ens):\n",
    "    index = 0\n",
    "    value = 0\n",
    "    ens = list(ens)\n",
    "    Oens = O[ens]\n",
    "    #print(len(ens))\n",
    "    #print(ens[np.argmax(O[i]-Oens)])\n",
    "    #print(ens)\n",
    "    #time.sleep(0.5)\n",
    "    return ens[np.argmax(O[i]-Oens)]"
   ]
  },
  {
   "cell_type": "code",
   "execution_count": 5,
   "metadata": {
    "collapsed": false
   },
   "outputs": [],
   "source": [
    "def optim(alpha,i,j,K,O,mu,l):\n",
    "    delta = alpha[i]+alpha[j]\n",
    "    Ci = O[i] - alpha[i]*K[i,i] -alpha[j]*K[i,j]\n",
    "    Cj = O[j] - alpha[i]*K[i,j] -alpha[j]*K[j,j]\n",
    "    # Condition droite (inutile dans le cas du noyau gaussien)\n",
    "    if K[i,i]+K[j,j]-2*K[i,j] == 0:\n",
    "        if Cj-Ci-K[i,i]>0:\n",
    "            alphaj = max(0,delta-1/(l*mu))\n",
    "            alphai = delta - alphaj\n",
    "        elif Cj-Ci-K[i,i] <0:\n",
    "            alphaj = min(1/(l*mu),delta)\n",
    "            alphai = delta - alphaj\n",
    "        else :\n",
    "            alphaj = alpha[j]\n",
    "            alphai = alpha[i]\n",
    "    else:\n",
    "        xmin =  (delta*(K[i,i]-K[i,j])+Ci-Cj)/( K[i,i]+K[j,j]-2*K[i,j])\n",
    "        \n",
    "        # condition si le min n'est pas atteint dans 0 1/(l*mu)\n",
    "        # condition sur K inutile si noyau gaussien\n",
    "        if K[i,i]+K[j,j]-2*K[i,j] < 0 or xmin <max(0,delta-1/(mu*l)) or xmin > min(1/(mu*l),delta):\n",
    "            #print(\"sur les bords\",K[i,i]+K[j,j]-2*K[i,j],xmin)\n",
    "            #time.sleep(1)\n",
    "            x0 = max(0,delta-1/(l*mu))\n",
    "            fx0  = 1/2*(delta-x0)**2*K[i,i] + (delta-x0)*K[i,j] + 1/2*x0**2*K[j,j] + (delta-x0)*Ci + x0*Cj\n",
    "            xmu = min(1/(l*mu),delta)\n",
    "            fxmu  = 1/2*(delta-xmu)**2*K[i,i] + (delta-xmu)*K[i,j] + 1/2*xmu**2*K[j,j] + (delta-xmu)*Ci + xmu*Cj\n",
    "            if fx0 > fxmu:\n",
    "                alphaj = xmu\n",
    "                alphai = delta - alphaj\n",
    "            else :\n",
    "                alphaj = x0\n",
    "                alphai = delta - alphaj\n",
    "        else :\n",
    "            #print(\"A l'intérieur\",xmin)\n",
    "            #time.sleep(1)\n",
    "            alphaj = xmin\n",
    "            alphai = delta - alphaj\n",
    "        \"\"\"\n",
    "        alphaj = alpha[j] + (O[i]-O[j])/(K[i,i]+K[j,j]-2*K[i,j])\n",
    "        if alphaj < 0:\n",
    "            alphaj = 0\n",
    "        if alphaj >1/(l*mu):\n",
    "            #print(\"l\",l,mu)\n",
    "            alphaj = 1/(l*mu)\n",
    "        delta = alpha[i]+alpha[j]\n",
    "        alphai = delta - alphaj\n",
    "        \"\"\"\n",
    "    alphai = delta - alphaj\n",
    "    #print(alphai,alphaj)\n",
    "    #print(\"alphai , alphaj : \",alphai,alphaj,alpha[i],alpha[j] , \" delta : \", delta)\n",
    "    if alpha[i]+alpha[j] - (alphai + alphaj)>10**(-8):\n",
    "        print(\"delta : \",alpha[i]+alpha[j], alphai + alphaj)\n",
    "        print(alpha[i],alpha[j],alphai,alphaj)\n",
    "    if alphai<0 or alphaj <0 or alphai >1/(mu*l) or alphaj >1/(mu*l):\n",
    "        print(\"oups\",alphai,alphaj)\n",
    "    return alphai,alphaj\n",
    "    "
   ]
  },
  {
   "cell_type": "code",
   "execution_count": 21,
   "metadata": {
    "collapsed": true
   },
   "outputs": [],
   "source": [
    "def SVcalc(alpha,c=1):\n",
    "    SV = list(np.where(((alpha>tol) & (alpha<(c-tol))))[0])\n",
    "    #print(len(SV))\n",
    "    #time.sleep(0.3)\n",
    "    return SV"
   ]
  },
  {
   "cell_type": "code",
   "execution_count": 46,
   "metadata": {
    "collapsed": false
   },
   "outputs": [],
   "source": [
    "class osvm:\n",
    "    def __init__(self,mu=0.01,maxiter=1000,maxiterii = 100,eps=0.001,gamma=5):\n",
    "        assert mu>0,\"mu doit être strictement positif\"\n",
    "        assert mu<=1,\"mu doit être inférieur à 1\"\n",
    "        self.mu = mu\n",
    "        self.eps = eps\n",
    "        self.maxiter = maxiter\n",
    "        self.maxiterii = maxiterii\n",
    "        self.gamma = gamma\n",
    "        self.time_init = 0\n",
    "        self.time_kkt = 0\n",
    "        self.time_O = 0\n",
    "        self.time_sv = 0\n",
    "        self.time_argmax = 0\n",
    "        self.len_sv = []\n",
    "        self.index_hist = []\n",
    "        self.i_hist = []\n",
    "        self.O_hist = []\n",
    "        self.diff_hist = []\n",
    "        self.diffi_hist = []\n",
    "        self.lenOsv = []\n",
    "        self.sv_hist = []\n",
    "        self.diffindex_hist = []\n",
    "        self.rho_hist = []\n",
    "        self.kkt_hist = []\n",
    "        \n",
    "    def fit(self,data):\n",
    "        print(\"Initialisation\")\n",
    "        timer = time.clock()\n",
    "        self.alpha = np.zeros(np.shape(data)[0])\n",
    "        self.l = np.shape(data)[0] \n",
    "        l = self.l\n",
    "        self.data = data\n",
    "        K = np.array([[kernel_expo(x,y,self.gamma) for x in data] for y in data])\n",
    "        choose = [i for i in range(l)]\n",
    "        self.rho = 0\n",
    "        s = 0\n",
    "        while s <= 1-1/(l*self.mu):\n",
    "            index = np.random.randint(len(choose))\n",
    "            elem = choose[index]\n",
    "            choose.remove(elem)\n",
    "            self.alpha[elem] = 1/(l*self.mu)\n",
    "            s += 1/(l*self.mu)\n",
    "        if s != 1:\n",
    "            index = np.random.randint(len(choose))\n",
    "            elem = choose[index]\n",
    "            choose.remove(elem)\n",
    "            self.alpha[elem] = 1-s\n",
    "            #print(1-s)\n",
    "            s = 1\n",
    "        #C = np.dot(self.alpha[2:],K[2:,:])\n",
    "        self.time_init += time.clock()-timer\n",
    "        timer = time.clock()\n",
    "        O = np.dot(self.alpha,K)\n",
    "        self.time_O += time.clock()-timer\n",
    "        self.rho = max(O[self.alpha>tol])\n",
    "        self.rho_hist.append(self.rho)\n",
    "        #print(sum(self.alpha))\n",
    "        print(\"Apprentissage\")\n",
    "        iter_etape = 0\n",
    "        iteration = 0\n",
    "        while iteration < self.maxiter:\n",
    "            #self.len_sv = []\n",
    "            #self.index_hist = []\n",
    "            #self.i_hist = []\n",
    "            self.O_hist = []\n",
    "            self.diff_hist = []\n",
    "            self.diffi_hist = []\n",
    "            self.lenOsv = []\n",
    "            self.sv_hist = []\n",
    "            self.diffindex_hist = []\n",
    "            #self.rho_hist = []\n",
    "\n",
    "            # Etape (i)\n",
    "            timer = time.clock()\n",
    "            enskkt = list(range(l))\n",
    "            np.random.shuffle(enskkt)\n",
    "            index = KKTviol(O,self.rho,self.mu,l,self.alpha,enskkt)\n",
    "            self.kkt_hist.append(len(np.where(np.logical_or((self.rho-O[enskkt])*(1/(self.mu*l)-self.alpha[enskkt])>tol, \n",
    "                                                            (O[enskkt]-self.rho)*self.alpha[enskkt]>tol))))\n",
    "            self.time_kkt += time.clock() - timer\n",
    "            iteration += 1\n",
    "            if index == -1:\n",
    "                print(iteration,\"break index\")\n",
    "                break\n",
    "            \n",
    "            timer = time.clock()\n",
    "            if iteration == 1 :\n",
    "                SV = SVcalc(self.alpha)\n",
    "            else:\n",
    "                SV = SVcalc(self.alpha,1/(self.mu*l))\n",
    "            self.time_sv += time.clock() - timer\n",
    "            \n",
    "            \"\"\"if SV == []:\n",
    "                SV_rand = np.random.randint(len(self.alpha))\n",
    "                while SV_rand == index:\n",
    "                    SV_rand = np.random.randint(len(self.alpha))\n",
    "                SV = [SV_rand]\"\"\"\n",
    "            while index in SV:\n",
    "                    SV.remove(index)\n",
    "            if SV == []:\n",
    "                SV = SVcalc(self.alpha)\n",
    "                while index in SV:\n",
    "                    SV.remove(index)\n",
    "            if SV ==[]:\n",
    "                continue\n",
    "            \n",
    "            self.time_argmax -= time.clock()\n",
    "            j = argmax(O,index,SV)\n",
    "            self.time_argmax += time.clock()\n",
    "            self.i_hist.append(j)\n",
    "            #print(\"before\",self.alpha[index],self.alpha[j])\n",
    "            alpha_index,alpha_j = self.alpha[index],self.alpha[j]\n",
    "            self.alpha[index],self.alpha[j] = optim(self.alpha,index,j,K,O,self.mu,l)\n",
    "            if sum(self.alpha) > 1.001:\n",
    "                print(\"etape i \" ,sum(self.alpha))\n",
    "                time.sleep(0.5)\n",
    "            #print(\"after\",self.alpha[index],self.alpha[j])\n",
    "            \n",
    "            # update de rho\n",
    "            self.time_O -= time.clock()\n",
    "            O += K[index,:]*(self.alpha[index]-alpha_index) + K[j,:]*(self.alpha[j]-alpha_j)\n",
    "            try:\n",
    "                self.rho = max(O[ ((self.alpha>tol) & (self.alpha< (1/(l*self.mu)-tol)))])\n",
    "            except:\n",
    "                print(\"rho out\")\n",
    "                try :\n",
    "                    self.rho = max(O[ (self.alpha>tol )]) \n",
    "                except :\n",
    "                    print(\"rho break\")\n",
    "                    break\n",
    "            self.rho_hist.append(self.rho)\n",
    "            self.time_O += time.clock()\n",
    "            self.time_sv -= time.clock()\n",
    "            SV = SVcalc(self.alpha,1/(self.mu*l))\n",
    "            self.time_sv += time.clock()\n",
    "            \n",
    "            # Etape (ii)\n",
    "            self.time_kkt -= time.clock()\n",
    "            np.random.shuffle(SV)\n",
    "            index = KKTviol(O,self.rho,self.mu,l,self.alpha,SV)\n",
    "            self.kkt_hist.append(len(np.where(np.logical_or((self.rho-O[SV])*(1/(self.mu*l)-self.alpha[SV])>tol, \n",
    "                                                            (O[SV]-self.rho)*self.alpha[SV]>tol))))\n",
    "            self.time_kkt += time.clock()\n",
    "            iterii = 0\n",
    "            while index !=-1 and len(SV)>=1 and iterii < self.maxiterii:\n",
    "                iterii += 1\n",
    "                while index in SV:\n",
    "                    SV.remove(index)\n",
    "                    #if iter_etape> 2000:\n",
    "                    #    print(SV)\n",
    "                    #    print(index)\n",
    "                    #    time.sleep(0.5)\n",
    "                if SV != []:\n",
    "                    iter_etape += 1\n",
    "                    self.len_sv.append(len(SV))\n",
    "                    self.index_hist.append(index)\n",
    "                    self.time_argmax -= time.clock()\n",
    "                    j = argmax(O,index,SV)\n",
    "                    Osv = O[index] - O\n",
    "                    self.i_hist.append(j)\n",
    "                    self.diff_hist.append(max(abs(Osv[SV])))\n",
    "                    self.diffi_hist.append(np.argmax(abs(Osv[SV])))\n",
    "                    self.index_hist.append(index)\n",
    "                    self.lenOsv.append(len(Osv[SV]))\n",
    "                    self.sv_hist.append(SV)\n",
    "                    self.time_argmax += time.clock()\n",
    "                    #print(\"j \" , j)\n",
    "                    #time.sleep(0.5)\n",
    "                    #print(\"before\",self.alpha[index],self.alpha[j])\n",
    "                    delta = self.alpha[index] + self.alpha[j]\n",
    "                    #self.alpha[index],self.alpha[j] \n",
    "                    alpha_index,alpha_j = self.alpha[index],self.alpha[j]\n",
    "                    self.alpha[index] , self.alpha[j] = optim(self.alpha,index,j,K,O,self.mu,l)\n",
    "                    #if sum(self.alpha) > 1.001:\n",
    "                    #    print(\"etape ii \" ,sum(self.alpha))\n",
    "                    #    print(index,j)\n",
    "                    #    print(self.alpha[index] + self.alpha[j] , delta, alpha_index + alpha_j)\n",
    "                    #    print(SV)\n",
    "                    #    time.sleep(0.5)\n",
    "                    #print(\"after\",self.alpha[index],self.alpha[j])\n",
    "                    #time.sleep(0.5)\n",
    "                    # update de rho\n",
    "                    #print(np.size(self.alpha),np.size(K))\n",
    "                    self.time_O -= time.clock()\n",
    "                    O += K[index,:]*(self.alpha[index]-alpha_index) + K[j,:]*(self.alpha[j]-alpha_j)\n",
    "                    self.rho = max(O[ ((self.alpha>tol) & (self.alpha< (1/(l*self.mu)-tol)))])\n",
    "                    self.rho_hist.append(self.rho)\n",
    "                    self.time_O += time.clock()\n",
    "                    self.O_hist.append(np.linalg.norm(K[index,:]*(self.alpha[index]-alpha_index) + K[j,:]*(self.alpha[j]-alpha_j)))\n",
    "                    self.O = O\n",
    "                    self.K = K\n",
    "                    self.time_sv -= time.clock()\n",
    "                    SV = SVcalc(self.alpha,1/(self.mu*l))\n",
    "                    self.time_sv += time.clock()\n",
    "                else:\n",
    "                    continue\n",
    "                    \n",
    "                \n",
    "                #print(index)\n",
    "                \n",
    "                if len(SV) == 1:\n",
    "                    print(\"len sv break\")\n",
    "                    break\n",
    "                #print(\" longueur sv \" ,len(SV))\n",
    "                self.time_kkt -= time.clock()\n",
    "                np.random.shuffle(SV)            \n",
    "                index = KKTviol(O,self.rho,self.mu,l,self.alpha,SV)\n",
    "                self.kkt_hist.append(len(np.where(np.logical_or((self.rho-O[enskkt])*(1/(self.mu*l)-self.alpha[enskkt])>tol, \n",
    "                                                            (O[enskkt]-self.rho)*self.alpha[enskkt]>tol))))\n",
    "                if index == -1:\n",
    "                    break\n",
    "                self.time_kkt += time.clock()\n",
    "                while index in SV:\n",
    "                    SV.remove(index)\n",
    "                \n",
    "            #if iterii == maxiterii :\n",
    "            #    continue\n",
    "                \"\"\"\n",
    "                rargmax = 0\n",
    "                rmax = 0\n",
    "                for i in range(len(self.alpha)):\n",
    "                    alp = self.alpha[i]\n",
    "                    if alp >0 and alp < 1*(self.mu*l):\n",
    "                        print(O[i])\n",
    "                        if O[i]> rmax:\n",
    "                            rmax = O[i]\n",
    "                            rargmax = i\n",
    "                            \"\"\"\n",
    "                #print(min(O[ (self.alpha>0)& (self.alpha < 1/(self.mu*l)) ]),max(O[ (self.alpha>0)& (self.alpha < 1/(self.mu*l)) ]))\n",
    "                #print(\"sum : \" , sum(self.alpha))\n",
    "                #print(self.rho,rargmax,O[rargmax],self.alpha[rargmax],rmax)\n",
    "            if iteration%100 == 0 :\n",
    "                print(iter_etape,iteration,self.maxiter,self.rho,np.dot(self.alpha,np.dot(self.alpha,K)))\n",
    "                iter_etape = 0\n",
    "        #return self.alpha,self.rho    \n",
    "    \n",
    "    def predict(self,xi):\n",
    "        K = np.array([[kernel_expo(x,xie,self.gamma) for xie in xi ]for x in self.data])\n",
    "        return np.sign(np.dot(self.alpha,K)-self.rho)\n",
    "    \n",
    "    def decision_function(self,xi):\n",
    "        K = np.array([[kernel_expo(x,xie,self.gamma) for xie in xi ]for x in self.data])\n",
    "        return np.dot(self.alpha,K)-self.rho"
   ]
  },
  {
   "cell_type": "code",
   "execution_count": 40,
   "metadata": {
    "collapsed": true
   },
   "outputs": [],
   "source": [
    "data = 2*(-0.5 + np.random.rand(500))"
   ]
  },
  {
   "cell_type": "code",
   "execution_count": 47,
   "metadata": {
    "collapsed": false,
    "scrolled": false
   },
   "outputs": [
    {
     "name": "stdout",
     "output_type": "stream",
     "text": [
      "Initialisation\n",
      "Apprentissage\n",
      "19600 100 1000 0.500244319007 0.274653525046\n",
      "20000 200 1000 0.500540428645 0.274148932227\n",
      "20000 300 1000 0.500497494305 0.274036515396\n",
      "20000 400 1000 0.500559407982 0.274032239207\n",
      "20000 500 1000 0.500551793456 0.274027808708\n",
      "20000 600 1000 0.50055625825 0.27402658693\n",
      "20000 700 1000 0.500556746138 0.274026396069\n",
      "20000 800 1000 0.500552592618 0.274026241495\n",
      "20000 900 1000 0.500553214196 0.274026147829\n",
      "20000 1000 1000 0.500553229467 0.274026140447\n"
     ]
    }
   ],
   "source": [
    "test = osvm(0.0000001,gamma = 100,maxiter=1000,maxiterii=200)\n",
    "test.fit(data)"
   ]
  },
  {
   "cell_type": "code",
   "execution_count": 48,
   "metadata": {
    "collapsed": false
   },
   "outputs": [
    {
     "data": {
      "text/plain": [
       "[<matplotlib.lines.Line2D at 0x1d035d8d1d0>]"
      ]
     },
     "execution_count": 48,
     "metadata": {},
     "output_type": "execute_result"
    },
    {
     "data": {
      "image/png": "[encoded data removed]",
      "text/plain": [
       "<matplotlib.figure.Figure at 0x1d032244630>"
      ]
     },
     "metadata": {},
     "output_type": "display_data"
    }
   ],
   "source": [
    "plt.plot(np.sort(data),test.decision_function(np.sort(data)))"
   ]
  },
  {
   "cell_type": "code",
   "execution_count": null,
   "metadata": {
    "collapsed": true
   },
   "outputs": [],
   "source": []
  },
  {
   "cell_type": "code",
   "execution_count": 49,
   "metadata": {
    "collapsed": false
   },
   "outputs": [
    {
     "data": {
      "text/plain": [
       "[<matplotlib.lines.Line2D at 0x1d0336f28d0>]"
      ]
     },
     "execution_count": 49,
     "metadata": {},
     "output_type": "execute_result"
    },
    {
     "data": {
      "image/png": "[encoded data removed]",
      "text/plain": [
       "<matplotlib.figure.Figure at 0x1d031866358>"
      ]
     },
     "metadata": {},
     "output_type": "display_data"
    }
   ],
   "source": [
    "plt.plot(test.kkt_hist)"
   ]
  },
  {
   "cell_type": "code",
   "execution_count": 50,
   "metadata": {
    "collapsed": false
   },
   "outputs": [
    {
     "data": {
      "image/png": "[encoded data removed]",
      "text/plain": [
       "<matplotlib.figure.Figure at 0x1d035e472e8>"
      ]
     },
     "metadata": {},
     "output_type": "display_data"
    }
   ],
   "source": [
    "plt.plot(test.len_sv)\n",
    "#plt.plot(test.lenOsv,'r')\n",
    "plt.show()"
   ]
  },
  {
   "cell_type": "code",
   "execution_count": 51,
   "metadata": {
    "collapsed": false
   },
   "outputs": [
    {
     "data": {
      "image/png": "[encoded data removed]",
      "text/plain": [
       "<matplotlib.figure.Figure at 0x1d0339041d0>"
      ]
     },
     "metadata": {},
     "output_type": "display_data"
    }
   ],
   "source": [
    "plt.plot(test.rho_hist)\n",
    "#plt.plot(test.lenOsv,'r')\n",
    "plt.show()"
   ]
  },
  {
   "cell_type": "code",
   "execution_count": 36,
   "metadata": {
    "collapsed": false
   },
   "outputs": [
    {
     "data": {
      "image/png": "[encoded data removed]",
      "text/plain": [
       "<matplotlib.figure.Figure at 0x24c491a0240>"
      ]
     },
     "metadata": {},
     "output_type": "display_data"
    }
   ],
   "source": [
    "\n",
    "#plt.plot(test.lenOsv,'r')\n",
    "plt.plot(test.i_hist[-100:])\n",
    "plt.show()"
   ]
  },
  {
   "cell_type": "code",
   "execution_count": 37,
   "metadata": {
    "collapsed": false
   },
   "outputs": [
    {
     "data": {
      "image/png": "[encoded data removed]",
      "text/plain": [
       "<matplotlib.figure.Figure at 0x24c491f34a8>"
      ]
     },
     "metadata": {},
     "output_type": "display_data"
    }
   ],
   "source": [
    "plt.plot(test.index_hist[-100:])\n",
    "plt.show()"
   ]
  },
  {
   "cell_type": "code",
   "execution_count": 38,
   "metadata": {
    "collapsed": false
   },
   "outputs": [
    {
     "name": "stdout",
     "output_type": "stream",
     "text": [
      "(array([     0,      0,   1000,   2000,   2000,   1984,   1016,   3000,\n",
      "         1000,   1000,   1000,   1000,   9000,   2000,   2852,   3910,\n",
      "         1238,   4000,   5000,   6897,  10527,  52553,  12023,  29828,\n",
      "        13172,  96143, 193745,  40112,      0,      0,      0,      0,\n",
      "            0,      0,      0,      0,      0,      0,      0,      0,\n",
      "            0,      0,      0,      0,      0,      0,      0,      0,\n",
      "            0,      0,      0,      0,      0,      0,      0,      0,\n",
      "            0,      0,      0,      0,      0,      0,      0,      0,\n",
      "            0,      0,      0,      0,      0,      0,      0,      0,\n",
      "            0,      0,      0,      0,      0,      0,      0,      0,\n",
      "            0,      0,      0,      0,      0,      0,      0,      0,\n",
      "            0,      0,      0,      0,      0,      0,      0,      0,\n",
      "            0,      0,      0], dtype=int64), array([ 0,  1,  2,  3,  4,  5,  6,  7,  8,  9, 10, 11, 12, 13, 14, 15, 16,\n",
      "       17, 18, 19, 20, 21, 22, 23, 24, 25, 26, 27, 28, 29, 30, 31, 32, 33,\n",
      "       34, 35, 36, 37, 38, 39, 40, 41, 42, 43, 44, 45, 46, 47, 48, 49, 50,\n",
      "       51, 52, 53, 54, 55, 56, 57, 58, 59, 60, 61, 62, 63, 64, 65, 66, 67,\n",
      "       68, 69, 70, 71, 72, 73, 74, 75, 76, 77, 78, 79, 80, 81, 82, 83, 84,\n",
      "       85, 86, 87, 88, 89, 90, 91, 92, 93, 94, 95, 96, 97, 98, 99]))\n"
     ]
    }
   ],
   "source": [
    "# probleme de la projection de alpha1 et alpha2\n",
    "#return alpha?\n",
    "print(np.histogram(test.len_sv,bins = [i for i in range(100)]))"
   ]
  },
  {
   "cell_type": "code",
   "execution_count": 66,
   "metadata": {
    "collapsed": false
   },
   "outputs": [
    {
     "name": "stdout",
     "output_type": "stream",
     "text": [
      "(array([ 15,  30,  35,  53,  88,  91, 136, 166, 192, 211, 225, 329, 335,\n",
      "       379, 407, 419, 487, 541, 563, 574, 579, 594, 636, 646, 717, 752,\n",
      "       767, 769, 887, 889, 919, 940, 979], dtype=int64),)\n"
     ]
    }
   ],
   "source": [
    "print(np.where(np.histogram(test.index_hist,bins = [i for i in range(1000)])[0]>0))"
   ]
  },
  {
   "cell_type": "code",
   "execution_count": 39,
   "metadata": {
    "collapsed": false
   },
   "outputs": [
    {
     "name": "stdout",
     "output_type": "stream",
     "text": [
      "(array([ 3,  6,  7,  9, 13, 16, 22, 23, 25, 28, 31, 38, 43, 47, 50, 54, 64,\n",
      "       66, 68, 70, 75, 76, 77, 79, 82, 87, 89, 92], dtype=int64),)\n"
     ]
    }
   ],
   "source": [
    "print(np.where(test.alpha>0))"
   ]
  },
  {
   "cell_type": "code",
   "execution_count": 36,
   "metadata": {
    "collapsed": false
   },
   "outputs": [
    {
     "data": {
      "text/plain": [
       "array([  9.41126276e-03,   1.28420442e-02,   7.30224956e-03,\n",
       "         9.46904933e-03,   4.66788753e-03,   2.93389126e-02,\n",
       "         1.59793330e-02,   1.71948687e-02,   5.03977018e-03,\n",
       "         4.31736332e-02,   2.26125396e-02,   8.93390530e-03,\n",
       "         1.57304625e-02,   3.00231931e-02,   5.17939806e-03,\n",
       "         2.36711055e-03,   2.31434075e-02,   3.31537370e-05,\n",
       "         1.38761792e-03,   5.00000000e-01,   2.59719802e-02,\n",
       "         5.90793204e-03,   4.69365853e-03,   1.81046437e-02,\n",
       "         1.18660204e-02,   1.69689190e-03,   1.54702884e-02,\n",
       "         6.91500579e-03,   1.09062311e-02,   9.15207871e-03,\n",
       "         2.96858139e-03,   4.98167571e-03,   3.74526416e-02,\n",
       "         7.49338046e-03,   1.71530505e-02,   1.12949598e-02,\n",
       "         1.10858194e-02,   1.62251011e-02,   1.68302600e-02])"
      ]
     },
     "execution_count": 36,
     "metadata": {},
     "output_type": "execute_result"
    }
   ],
   "source": [
    "test.alpha[test.alpha>0]"
   ]
  },
  {
   "cell_type": "code",
   "execution_count": 69,
   "metadata": {
    "collapsed": true
   },
   "outputs": [],
   "source": [
    "del test.lenOsv"
   ]
  },
  {
   "cell_type": "code",
   "execution_count": 37,
   "metadata": {
    "collapsed": false
   },
   "outputs": [
    {
     "data": {
      "text/plain": [
       "[<matplotlib.lines.Line2D at 0x1d0317e0c88>]"
      ]
     },
     "execution_count": 37,
     "metadata": {},
     "output_type": "execute_result"
    },
    {
     "data": {
      "image/png": "[encoded data removed]",
      "text/plain": [
       "<matplotlib.figure.Figure at 0x1d032afc240>"
      ]
     },
     "metadata": {},
     "output_type": "display_data"
    }
   ],
   "source": [
    "x=np.linspace(-2,2,1000)\n",
    "y = test.predict(x)\n",
    "plt.plot(x,y)"
   ]
  },
  {
   "cell_type": "code",
   "execution_count": 38,
   "metadata": {
    "collapsed": false
   },
   "outputs": [
    {
     "data": {
      "text/plain": [
       "[<matplotlib.lines.Line2D at 0x1d03227c668>]"
      ]
     },
     "execution_count": 38,
     "metadata": {},
     "output_type": "execute_result"
    },
    {
     "data": {
      "image/png": "[encoded data removed]",
      "text/plain": [
       "<matplotlib.figure.Figure at 0x1d02fffe4a8>"
      ]
     },
     "metadata": {},
     "output_type": "display_data"
    }
   ],
   "source": [
    "y = test.decision_function(x)\n",
    "plt.plot(x,y)"
   ]
  },
  {
   "cell_type": "code",
   "execution_count": 36,
   "metadata": {
    "collapsed": false
   },
   "outputs": [],
   "source": [
    "xtest=np.linspace(-1,1,1000)"
   ]
  },
  {
   "cell_type": "code",
   "execution_count": 37,
   "metadata": {
    "collapsed": false
   },
   "outputs": [
    {
     "ename": "TypeError",
     "evalue": "'numpy.float64' object is not iterable",
     "output_type": "error",
     "traceback": [
      "\u001b[1;31m---------------------------------------------------------------------------\u001b[0m",
      "\u001b[1;31mTypeError\u001b[0m                                 Traceback (most recent call last)",
      "\u001b[1;32m<ipython-input-37-84ef0227de18>\u001b[0m in \u001b[0;36m<module>\u001b[1;34m()\u001b[0m\n\u001b[0;32m      1\u001b[0m \u001b[0mnb\u001b[0m \u001b[1;33m=\u001b[0m \u001b[1;36m0\u001b[0m\u001b[1;33m\u001b[0m\u001b[0m\n\u001b[0;32m      2\u001b[0m \u001b[1;32mfor\u001b[0m \u001b[0mx\u001b[0m \u001b[1;32min\u001b[0m \u001b[0mxtest\u001b[0m\u001b[1;33m:\u001b[0m\u001b[1;33m\u001b[0m\u001b[0m\n\u001b[1;32m----> 3\u001b[1;33m     \u001b[1;32mif\u001b[0m \u001b[0mtest\u001b[0m\u001b[1;33m.\u001b[0m\u001b[0mpredict\u001b[0m\u001b[1;33m(\u001b[0m\u001b[0mx\u001b[0m\u001b[1;33m)\u001b[0m\u001b[1;33m<\u001b[0m\u001b[1;36m0\u001b[0m \u001b[1;33m:\u001b[0m\u001b[1;33m\u001b[0m\u001b[0m\n\u001b[0m\u001b[0;32m      4\u001b[0m         \u001b[0mnb\u001b[0m \u001b[1;33m+=\u001b[0m \u001b[1;36m1\u001b[0m\u001b[1;33m\u001b[0m\u001b[0m\n",
      "\u001b[1;32m<ipython-input-31-b08beb0576be>\u001b[0m in \u001b[0;36mpredict\u001b[1;34m(self, xi)\u001b[0m\n\u001b[0;32m    236\u001b[0m \u001b[1;33m\u001b[0m\u001b[0m\n\u001b[0;32m    237\u001b[0m     \u001b[1;32mdef\u001b[0m \u001b[0mpredict\u001b[0m\u001b[1;33m(\u001b[0m\u001b[0mself\u001b[0m\u001b[1;33m,\u001b[0m\u001b[0mxi\u001b[0m\u001b[1;33m)\u001b[0m\u001b[1;33m:\u001b[0m\u001b[1;33m\u001b[0m\u001b[0m\n\u001b[1;32m--> 238\u001b[1;33m         \u001b[0mK\u001b[0m \u001b[1;33m=\u001b[0m \u001b[0mnp\u001b[0m\u001b[1;33m.\u001b[0m\u001b[0marray\u001b[0m\u001b[1;33m(\u001b[0m\u001b[1;33m[\u001b[0m\u001b[1;33m[\u001b[0m\u001b[0mkernel_expo\u001b[0m\u001b[1;33m(\u001b[0m\u001b[0mx\u001b[0m\u001b[1;33m,\u001b[0m\u001b[0mxie\u001b[0m\u001b[1;33m,\u001b[0m\u001b[0mself\u001b[0m\u001b[1;33m.\u001b[0m\u001b[0mgamma\u001b[0m\u001b[1;33m)\u001b[0m \u001b[1;32mfor\u001b[0m \u001b[0mxie\u001b[0m \u001b[1;32min\u001b[0m \u001b[0mxi\u001b[0m \u001b[1;33m]\u001b[0m\u001b[1;32mfor\u001b[0m \u001b[0mx\u001b[0m \u001b[1;32min\u001b[0m \u001b[0mself\u001b[0m\u001b[1;33m.\u001b[0m\u001b[0mdata\u001b[0m\u001b[1;33m]\u001b[0m\u001b[1;33m)\u001b[0m\u001b[1;33m\u001b[0m\u001b[0m\n\u001b[0m\u001b[0;32m    239\u001b[0m         \u001b[1;32mreturn\u001b[0m \u001b[0mnp\u001b[0m\u001b[1;33m.\u001b[0m\u001b[0msign\u001b[0m\u001b[1;33m(\u001b[0m\u001b[0mnp\u001b[0m\u001b[1;33m.\u001b[0m\u001b[0mdot\u001b[0m\u001b[1;33m(\u001b[0m\u001b[0mself\u001b[0m\u001b[1;33m.\u001b[0m\u001b[0malpha\u001b[0m\u001b[1;33m,\u001b[0m\u001b[0mK\u001b[0m\u001b[1;33m)\u001b[0m\u001b[1;33m-\u001b[0m\u001b[0mself\u001b[0m\u001b[1;33m.\u001b[0m\u001b[0mrho\u001b[0m\u001b[1;33m)\u001b[0m\u001b[1;33m\u001b[0m\u001b[0m\n\u001b[0;32m    240\u001b[0m \u001b[1;33m\u001b[0m\u001b[0m\n",
      "\u001b[1;32m<ipython-input-31-b08beb0576be>\u001b[0m in \u001b[0;36m<listcomp>\u001b[1;34m(.0)\u001b[0m\n\u001b[0;32m    236\u001b[0m \u001b[1;33m\u001b[0m\u001b[0m\n\u001b[0;32m    237\u001b[0m     \u001b[1;32mdef\u001b[0m \u001b[0mpredict\u001b[0m\u001b[1;33m(\u001b[0m\u001b[0mself\u001b[0m\u001b[1;33m,\u001b[0m\u001b[0mxi\u001b[0m\u001b[1;33m)\u001b[0m\u001b[1;33m:\u001b[0m\u001b[1;33m\u001b[0m\u001b[0m\n\u001b[1;32m--> 238\u001b[1;33m         \u001b[0mK\u001b[0m \u001b[1;33m=\u001b[0m \u001b[0mnp\u001b[0m\u001b[1;33m.\u001b[0m\u001b[0marray\u001b[0m\u001b[1;33m(\u001b[0m\u001b[1;33m[\u001b[0m\u001b[1;33m[\u001b[0m\u001b[0mkernel_expo\u001b[0m\u001b[1;33m(\u001b[0m\u001b[0mx\u001b[0m\u001b[1;33m,\u001b[0m\u001b[0mxie\u001b[0m\u001b[1;33m,\u001b[0m\u001b[0mself\u001b[0m\u001b[1;33m.\u001b[0m\u001b[0mgamma\u001b[0m\u001b[1;33m)\u001b[0m \u001b[1;32mfor\u001b[0m \u001b[0mxie\u001b[0m \u001b[1;32min\u001b[0m \u001b[0mxi\u001b[0m \u001b[1;33m]\u001b[0m\u001b[1;32mfor\u001b[0m \u001b[0mx\u001b[0m \u001b[1;32min\u001b[0m \u001b[0mself\u001b[0m\u001b[1;33m.\u001b[0m\u001b[0mdata\u001b[0m\u001b[1;33m]\u001b[0m\u001b[1;33m)\u001b[0m\u001b[1;33m\u001b[0m\u001b[0m\n\u001b[0m\u001b[0;32m    239\u001b[0m         \u001b[1;32mreturn\u001b[0m \u001b[0mnp\u001b[0m\u001b[1;33m.\u001b[0m\u001b[0msign\u001b[0m\u001b[1;33m(\u001b[0m\u001b[0mnp\u001b[0m\u001b[1;33m.\u001b[0m\u001b[0mdot\u001b[0m\u001b[1;33m(\u001b[0m\u001b[0mself\u001b[0m\u001b[1;33m.\u001b[0m\u001b[0malpha\u001b[0m\u001b[1;33m,\u001b[0m\u001b[0mK\u001b[0m\u001b[1;33m)\u001b[0m\u001b[1;33m-\u001b[0m\u001b[0mself\u001b[0m\u001b[1;33m.\u001b[0m\u001b[0mrho\u001b[0m\u001b[1;33m)\u001b[0m\u001b[1;33m\u001b[0m\u001b[0m\n\u001b[0;32m    240\u001b[0m \u001b[1;33m\u001b[0m\u001b[0m\n",
      "\u001b[1;31mTypeError\u001b[0m: 'numpy.float64' object is not iterable"
     ]
    }
   ],
   "source": [
    "nb = 0\n",
    "for x in xtest:\n",
    "    if test.predict(x)<0 :\n",
    "        nb += 1\n"
   ]
  },
  {
   "cell_type": "code",
   "execution_count": null,
   "metadata": {
    "collapsed": false
   },
   "outputs": [],
   "source": [
    "nb"
   ]
  },
  {
   "cell_type": "code",
   "execution_count": 13,
   "metadata": {
    "collapsed": false
   },
   "outputs": [
    {
     "data": {
      "text/plain": [
       "0.23332819982247363"
      ]
     },
     "execution_count": 13,
     "metadata": {},
     "output_type": "execute_result"
    }
   ],
   "source": [
    "test.rho"
   ]
  },
  {
   "cell_type": "code",
   "execution_count": 26,
   "metadata": {
    "collapsed": false
   },
   "outputs": [
    {
     "ename": "KeyboardInterrupt",
     "evalue": "",
     "output_type": "error",
     "traceback": [
      "\u001b[1;31m---------------------------------------------------------------------------\u001b[0m",
      "\u001b[1;31mKeyboardInterrupt\u001b[0m                         Traceback (most recent call last)",
      "\u001b[1;32m<ipython-input-26-397b8a49693b>\u001b[0m in \u001b[0;36m<module>\u001b[1;34m()\u001b[0m\n\u001b[1;32m----> 1\u001b[1;33m \u001b[0mtest\u001b[0m\u001b[1;33m.\u001b[0m\u001b[0mfit\u001b[0m\u001b[1;33m(\u001b[0m\u001b[0mdata\u001b[0m\u001b[1;33m)\u001b[0m\u001b[1;33m\u001b[0m\u001b[0m\n\u001b[0m",
      "\u001b[1;32m<ipython-input-17-659db2f298cc>\u001b[0m in \u001b[0;36mfit\u001b[1;34m(self, data)\u001b[0m\n\u001b[0;32m     13\u001b[0m         \u001b[0mself\u001b[0m\u001b[1;33m.\u001b[0m\u001b[0mdata\u001b[0m \u001b[1;33m=\u001b[0m \u001b[0mdata\u001b[0m\u001b[1;33m\u001b[0m\u001b[0m\n\u001b[0;32m     14\u001b[0m         \u001b[0mK\u001b[0m \u001b[1;33m=\u001b[0m \u001b[0mnp\u001b[0m\u001b[1;33m.\u001b[0m\u001b[0marray\u001b[0m\u001b[1;33m(\u001b[0m\u001b[1;33m[\u001b[0m\u001b[1;33m[\u001b[0m\u001b[0mkernel_expo\u001b[0m\u001b[1;33m(\u001b[0m\u001b[0mx\u001b[0m\u001b[1;33m,\u001b[0m\u001b[0my\u001b[0m\u001b[1;33m,\u001b[0m\u001b[1;36m0.5\u001b[0m\u001b[1;33m)\u001b[0m \u001b[1;32mfor\u001b[0m \u001b[0mx\u001b[0m \u001b[1;32min\u001b[0m \u001b[0mdata\u001b[0m\u001b[1;33m]\u001b[0m \u001b[1;32mfor\u001b[0m \u001b[0my\u001b[0m \u001b[1;32min\u001b[0m \u001b[0mdata\u001b[0m\u001b[1;33m]\u001b[0m\u001b[1;33m)\u001b[0m\u001b[1;33m\u001b[0m\u001b[0m\n\u001b[1;32m---> 15\u001b[1;33m         \u001b[0mchoose\u001b[0m \u001b[1;33m=\u001b[0m \u001b[1;33m[\u001b[0m\u001b[0mi\u001b[0m \u001b[1;32mfor\u001b[0m \u001b[0mi\u001b[0m \u001b[1;32min\u001b[0m \u001b[0mrange\u001b[0m\u001b[1;33m(\u001b[0m\u001b[0ml\u001b[0m\u001b[1;33m)\u001b[0m\u001b[1;33m]\u001b[0m\u001b[1;33m\u001b[0m\u001b[0m\n\u001b[0m\u001b[0;32m     16\u001b[0m         \u001b[0mself\u001b[0m\u001b[1;33m.\u001b[0m\u001b[0mrho\u001b[0m \u001b[1;33m=\u001b[0m \u001b[1;36m0\u001b[0m\u001b[1;33m\u001b[0m\u001b[0m\n\u001b[0;32m     17\u001b[0m         \u001b[0ms\u001b[0m \u001b[1;33m=\u001b[0m \u001b[1;36m0\u001b[0m\u001b[1;33m\u001b[0m\u001b[0m\n",
      "\u001b[1;31mKeyboardInterrupt\u001b[0m: "
     ]
    }
   ],
   "source": []
  },
  {
   "cell_type": "code",
   "execution_count": 94,
   "metadata": {
    "collapsed": false
   },
   "outputs": [
    {
     "name": "stdout",
     "output_type": "stream",
     "text": [
      "Initialisation\n",
      "Apprentissage\n"
     ]
    }
   ],
   "source": [
    "xx, yy = np.meshgrid(np.linspace(-5, 5, 500), np.linspace(-5, 5, 500))\n",
    "# Generate train data\n",
    "X = 0.3 * np.random.randn(100, 2)\n",
    "X_train = np.r_[X + 2, X - 2]\n",
    "# Generate some regular novel observations\n",
    "X = 0.3 * np.random.randn(20, 2)\n",
    "X_test = np.r_[X + 2, X - 2]\n",
    "# Generate some abnormal novel observations\n",
    "X_outliers = np.random.uniform(low=-4, high=4, size=(20, 2))\n",
    "\n",
    "# fit the model\n",
    "clf = osvm(0.01)\n",
    "clf.fit(X_train)\n"
   ]
  },
  {
   "cell_type": "code",
   "execution_count": 95,
   "metadata": {
    "collapsed": false
   },
   "outputs": [
    {
     "data": {
      "image/png": "[encoded data removed]",
      "text/plain": [
       "<matplotlib.figure.Figure at 0x90ccc18>"
      ]
     },
     "metadata": {},
     "output_type": "display_data"
    }
   ],
   "source": [
    "xx, yy = np.meshgrid(np.linspace(-5, 5, 100), np.linspace(-5, 5, 100))\n",
    "y_pred_train = clf.predict(X_train)\n",
    "y_pred_test = clf.predict(X_test)\n",
    "y_pred_outliers = clf.predict(X_outliers)\n",
    "n_error_train = y_pred_train[y_pred_train == -1].size\n",
    "n_error_test = y_pred_test[y_pred_test == -1].size\n",
    "n_error_outliers = y_pred_outliers[y_pred_outliers == 1].size\n",
    "\n",
    "# plot the line, the points, and the nearest vectors to the plane\n",
    "Z = clf.decision_function(np.c_[xx.ravel(), yy.ravel()])\n",
    "Z = Z.reshape(xx.shape)\n",
    "\n",
    "plt.title(\"Novelty Detection\")\n",
    "plt.contourf(xx, yy, Z, levels=np.linspace(Z.min(), 0, 7), cmap=plt.cm.Blues_r)\n",
    "a = plt.contour(xx, yy, Z, levels=[0], linewidths=2, colors='red')\n",
    "plt.contourf(xx, yy, Z, levels=[0, Z.max()], colors='orange')\n",
    "\n",
    "b1 = plt.scatter(X_train[:, 0], X_train[:, 1], c='white')\n",
    "b2 = plt.scatter(X_test[:, 0], X_test[:, 1], c='green')\n",
    "c = plt.scatter(X_outliers[:, 0], X_outliers[:, 1], c='red')\n",
    "plt.axis('tight')\n",
    "plt.xlim((-5, 5))\n",
    "plt.ylim((-5, 5))\n",
    "plt.legend([a.collections[0], b1, b2, c],\n",
    "           [\"learned frontier\", \"training observations\",\n",
    "            \"new regular observations\", \"new abnormal observations\"],\n",
    "           loc=\"upper left\",\n",
    "           prop=matplotlib.font_manager.FontProperties(size=11))\n",
    "plt.xlabel(\n",
    "    \"error train: %d/200 ; errors novel regular: %d/40 ; \"\n",
    "    \"errors novel abnormal: %d/40\"\n",
    "    % (n_error_train, n_error_test, n_error_outliers))\n",
    "plt.show()"
   ]
  },
  {
   "cell_type": "code",
   "execution_count": 47,
   "metadata": {
    "collapsed": false
   },
   "outputs": [
    {
     "data": {
      "text/plain": [
       "[61, 270, 322, 481, 910]"
      ]
     },
     "execution_count": 47,
     "metadata": {},
     "output_type": "execute_result"
    }
   ],
   "source": [
    "SVcalc(test.alpha,c=1/(1000*0.005))"
   ]
  },
  {
   "cell_type": "code",
   "execution_count": 45,
   "metadata": {
    "collapsed": false
   },
   "outputs": [
    {
     "data": {
      "text/plain": [
       "0.075695405813604899"
      ]
     },
     "execution_count": 45,
     "metadata": {},
     "output_type": "execute_result"
    }
   ],
   "source": [
    "test.alpha[61]"
   ]
  }
 ],
 "metadata": {
  "kernelspec": {
   "display_name": "Python 3",
   "language": "python",
   "name": "python3"
  },
  "language_info": {
   "codemirror_mode": {
    "name": "ipython",
    "version": 3
   },
   "file_extension": ".py",
   "mimetype": "text/x-python",
   "name": "python",
   "nbconvert_exporter": "python",
   "pygments_lexer": "ipython3",
   "version": "3.5.1"
  }
 },
 "nbformat": 4,
 "nbformat_minor": 0
}
