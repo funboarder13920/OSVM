{
 "cells": [
  {
   "cell_type": "code",
   "execution_count": 3,
   "metadata": {
    "collapsed": true
   },
   "outputs": [],
   "source": [
    "import numpy as np\n",
    "import random"
   ]
  },
  {
   "cell_type": "code",
   "execution_count": 4,
   "metadata": {
    "collapsed": true
   },
   "outputs": [],
   "source": [
    "def kernel_expo(x,y,c):\n",
    "    return np.exp(-np.linalg.norm(x-y)**2/c)"
   ]
  },
  {
   "cell_type": "code",
   "execution_count": 5,
   "metadata": {
    "collapsed": true
   },
   "outputs": [],
   "source": [
    "def KKTviol(O,rho,mu,l,alpha,ens):\n",
    "    ens = list(ens)\n",
    "    random.shuffle(ens)\n",
    "    for index in ens:\n",
    "        if (O[index] -rho)*alpha[index]<=0 and (rho-O[index])*(1/(mu*l)-alpha[index])<=0:\n",
    "            return index\n",
    "    return -1"
   ]
  },
  {
   "cell_type": "code",
   "execution_count": 6,
   "metadata": {
    "collapsed": true
   },
   "outputs": [],
   "source": [
    "def argmax(O,i,ens):\n",
    "    index = 0\n",
    "    value = 0\n",
    "    ens = list(ens)\n",
    "    random.shuffle(ens)\n",
    "    for j in ens:\n",
    "        if value < abs(O[i]-O[j]):\n",
    "            value = abs(O[i]-O[j])\n",
    "            index = j\n",
    "    return index    "
   ]
  },
  {
   "cell_type": "code",
   "execution_count": 42,
   "metadata": {
    "collapsed": true
   },
   "outputs": [],
   "source": [
    "def optim(alpha,i,j,K,O,mu,l):\n",
    "    if K[i,i]+K[j,j]-2*K[i,j] == 0:\n",
    "        return alpha[i],alpha[j]\n",
    "    else:\n",
    "        alphaj = alpha[j] + (O[i]-O[j])/(K[i,i]+K[j,j]-2*K[i,j])\n",
    "        if alphaj < 0:\n",
    "            alphaj = 0\n",
    "        if alphaj >1/(l*mu):\n",
    "            alphaj = 1/(l*mu)\n",
    "        delta = alpha[i]+alpha[j]\n",
    "        alphai = delta - alphaj\n",
    "    print(alphai,alphaj)\n",
    "    return alphai,alphaj\n",
    "    "
   ]
  },
  {
   "cell_type": "code",
   "execution_count": 43,
   "metadata": {
    "collapsed": true
   },
   "outputs": [],
   "source": [
    "def SVcalc(alpha,c):\n",
    "    SV = []\n",
    "    for i in range(len(alpha)):\n",
    "        if alpha[i]>0 and alpha[i]<c:\n",
    "            SV.append(i)\n",
    "    return SV"
   ]
  },
  {
   "cell_type": "code",
   "execution_count": 44,
   "metadata": {
    "collapsed": false
   },
   "outputs": [],
   "source": [
    "class osvm:\n",
    "    def __init__(self,mu=0.7,maxiter=10000,eps=0.001):\n",
    "        assert mu>0,\"mu doit être strictement positif\"\n",
    "        assert mu<=1,\"mu doit être inférieur à 1\"\n",
    "        self.mu = mu\n",
    "        self.eps = eps\n",
    "        self.maxiter = maxiter\n",
    "        \n",
    "    def fit(self,data):\n",
    "        self.alpha = np.zeros(np.size(data))\n",
    "        l = np.size(data)        \n",
    "        K = np.array([[kernel_expo(x,y,0.5*l) for x in data] for y in data])\n",
    "        choose = [i for i in range(l)]\n",
    "        self.rho = 0\n",
    "        s = 0\n",
    "        while s <= 1-1/(l*self.mu):\n",
    "            index = np.random.randint(len(choose))\n",
    "            elem = choose[index]\n",
    "            choose.remove(elem)\n",
    "            self.alpha[elem] = 1/(l*self.mu)\n",
    "            s += 1/(l*self.mu)\n",
    "        if s != 1:\n",
    "            index = np.random.randint(len(choose))\n",
    "            elem = choose[index]\n",
    "            choose.remove(elem)\n",
    "            self.alpha[elem] = 1-s\n",
    "            print(1-s)\n",
    "            s = 1\n",
    "        C = np.dot(self.alpha[2:],K[2:,:])\n",
    "        O = K[0,:]*self.alpha[0] + K[1,:]*self.alpha[1] + C\n",
    "        for i in range(l):\n",
    "            if self.alpha[i]>0:\n",
    "                self.rho=max(self.rho,O[i])\n",
    "\n",
    "        iteration = 0\n",
    "        while iteration < self.maxiter:\n",
    "            # Etape (i)\n",
    "            index = KKTviol(O,self.rho,self.mu,l,self.alpha,range(l))\n",
    "            if index == -1:\n",
    "                break\n",
    "            iteration += 1\n",
    "            if iteration == 0 :\n",
    "                SV = []\n",
    "                for i in range(l):\n",
    "                    if self.alpha[i] > 0:\n",
    "                        SV.append(i)\n",
    "            else:\n",
    "                SV = SVcalc(self.alpha,1/(self.mu*l))\n",
    "            if SV == []:\n",
    "                print(\"out\")\n",
    "                break\n",
    "            \n",
    "            j = argmax(O,index,SV)\n",
    "            self.alpha[index],self.alpha[j] = optim(self.alpha,index,j,K,O,self.mu,l)\n",
    "            \n",
    "            # update de rho\n",
    "            O = np.dot(self.alpha,K)\n",
    "            for i in range(l):\n",
    "                if self.alpha[i]>0:\n",
    "                    self.rho=max(self.rho,O[i])\n",
    "            SV = SVcalc(self.alpha,1/(self.mu*l))\n",
    "            \n",
    "            # Etape (ii)\n",
    "            index = KKTviol(O,self.rho,self.mu,l,self.alpha,SV)\n",
    "            while index !=-1:\n",
    "                j = argmax(O,index,SV)\n",
    "                self.alpha[index],self.alpha[j] = optim(self.alpha,index,j,K,O,self.mu,l)\n",
    "                # update de rho\n",
    "                O = np.dot(self.alpha,K)\n",
    "                for i in range(l):\n",
    "                    if self.alpha[i]>0:\n",
    "                        self.rho=max(self.rho,O[i])\n",
    "                print(index)\n",
    "                SV = SVcalc(self.alpha,1/(self.mu*l))\n",
    "                index = KKTviol(O,self.rho,self.mu,l,self.alpha,SV)\n",
    "            \n",
    "            if iteration%1 == 0 :\n",
    "                print(iteration,self.maxiter)\n",
    "            \n",
    "            iteration += 1\n",
    "                \n",
    "        return self.alpha,self.rho        "
   ]
  },
  {
   "cell_type": "code",
   "execution_count": 45,
   "metadata": {
    "collapsed": false
   },
   "outputs": [
    {
     "name": "stdout",
     "output_type": "stream",
     "text": [
      "0.02660000000000029\n",
      "0.0266 0.031400000000000004\n",
      "1 10000\n",
      "0.058 0\n",
      "3 10000\n",
      "out\n"
     ]
    },
    {
     "data": {
      "text/plain": [
       "(array([ 0.    ,  0.    ,  0.0314,  0.    ,  0.0314,  0.0314,  0.    ,\n",
       "         0.    ,  0.    ,  0.    ,  0.    ,  0.    ,  0.    ,  0.    ,\n",
       "         0.    ,  0.0314,  0.    ,  0.    ,  0.    ,  0.0314,  0.0314,\n",
       "         0.    ,  0.    ,  0.    ,  0.    ,  0.    ,  0.    ,  0.058 ,\n",
       "         0.    ,  0.    ,  0.    ,  0.    ,  0.    ,  0.    ,  0.    ,\n",
       "         0.    ,  0.    ,  0.    ,  0.0314,  0.0314,  0.    ,  0.    ,\n",
       "         0.0314,  0.    ,  0.    ,  0.    ,  0.    ,  0.    ,  0.    ,\n",
       "         0.    ,  0.    ,  0.0314,  0.0314,  0.0314,  0.    ,  0.    ,\n",
       "         0.0314,  0.    ,  0.    ,  0.    ,  0.0314,  0.    ,  0.    ,\n",
       "         0.    ,  0.    ,  0.0314,  0.0314,  0.0314,  0.0314,  0.0314,\n",
       "         0.0314,  0.    ,  0.    ,  0.0314,  0.0314,  0.0314,  0.    ,\n",
       "         0.    ,  0.    ,  0.0314,  0.0314,  0.0314,  0.    ,  0.    ,\n",
       "         0.    ,  0.    ,  0.0314,  0.    ,  0.    ,  0.    ,  0.    ,\n",
       "         0.0314,  0.    ,  0.    ,  0.0314,  0.    ,  0.    ,  0.0314,\n",
       "         0.    ,  0.    ]), 0.99851549186808297)"
      ]
     },
     "execution_count": 45,
     "metadata": {},
     "output_type": "execute_result"
    }
   ],
   "source": [
    "test = osvm(1/3.14)\n",
    "data = np.random.rand(100)\n",
    "test.fit(data)"
   ]
  },
  {
   "cell_type": "code",
   "execution_count": 39,
   "metadata": {
    "collapsed": false
   },
   "outputs": [
    {
     "data": {
      "text/plain": [
       "1.0"
      ]
     },
     "execution_count": 39,
     "metadata": {},
     "output_type": "execute_result"
    }
   ],
   "source": [
    "# probleme de la projection de alpha1 et alpha2\n"
   ]
  }
 ],
 "metadata": {
  "kernelspec": {
   "display_name": "Python 3",
   "language": "python",
   "name": "python3"
  },
  "language_info": {
   "codemirror_mode": {
    "name": "ipython",
    "version": 3
   },
   "file_extension": ".py",
   "mimetype": "text/x-python",
   "name": "python",
   "nbconvert_exporter": "python",
   "pygments_lexer": "ipython3",
   "version": "3.4.4"
  }
 },
 "nbformat": 4,
 "nbformat_minor": 0
}
